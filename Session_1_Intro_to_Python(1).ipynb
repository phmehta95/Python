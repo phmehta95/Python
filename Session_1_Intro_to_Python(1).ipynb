{
  "nbformat": 4,
  "nbformat_minor": 0,
  "metadata": {
    "colab": {
      "provenance": [],
      "toc_visible": true,
      "include_colab_link": true
    },
    "kernelspec": {
      "name": "python3",
      "display_name": "Python 3"
    },
    "language_info": {
      "name": "python"
    }
  },
  "cells": [
    {
      "cell_type": "markdown",
      "metadata": {
        "id": "view-in-github",
        "colab_type": "text"
      },
      "source": [
        "<a href=\"https://colab.research.google.com/github/phmehta95/Python/blob/master/Session_1_Intro_to_Python(1).ipynb\" target=\"_parent\"><img src=\"https://colab.research.google.com/assets/colab-badge.svg\" alt=\"Open In Colab\"/></a>"
      ]
    },
    {
      "cell_type": "markdown",
      "source": [
        "# Why Python?\n"
      ],
      "metadata": {
        "id": "d5xIYGMzpmJK"
      }
    },
    {
      "cell_type": "markdown",
      "source": [
        "## Advantages of Python\n",
        "\n",
        "- Free and open-source.\n",
        "- Multiple libraries and growing - used for varied applications.\n",
        "- Functional programming and object orientated programming.\n",
        "- Increasingly popular.\n",
        "- (Relatively) straightforward to learn.\n",
        "- Multiple platforms (IDEs) on which to run it.\n",
        "- We can use it to teach statistics, signal and image analysis, data science etc\n",
        "\n"
      ],
      "metadata": {
        "id": "wzBejhJOpvKO"
      }
    },
    {
      "cell_type": "markdown",
      "source": [
        "## How to go through the course\n",
        "\n",
        "We are using the [Google Colab](https://colab.research.google.com/) platform which will run Python scripts in the cloud. To get going you will need to do the following:\n",
        "\n",
        "1. Create a Google account if you haven't got one.\n",
        "2. Download the Zip files in KEATS and  extract the files locally\n",
        "3. Go to your [Google Drive](https://drive.google.com/), and upload all the files you extracted earlier into a fresh, suitably named folder (e.g. 'Intro to Python').\n",
        "4. Double-click on the Session 1 Python notebook (`.ipynb`) file. It will open directly in [Google Colab](https://colab.research.google.com/).\n"
      ],
      "metadata": {
        "id": "62XCTgdMpwjO"
      }
    },
    {
      "cell_type": "markdown",
      "source": [
        "## Tips\n",
        "\n",
        "- You can create code samples in the Colab worksheets and play around with them.\n",
        "- Don't limit yourself to one solution to each of the exercises - play with the possibilities.\n",
        "- We will release the solutions periodically through the course of the module.\n",
        "- It's not a race - take your time!\n",
        "- If you've done a lot of python before and finish early, we can provide you with more material!"
      ],
      "metadata": {
        "id": "8njCa3UPQzpe"
      }
    },
    {
      "cell_type": "markdown",
      "source": [
        "# Overview\n"
      ],
      "metadata": {
        "id": "u6H-3skdPzKS"
      }
    },
    {
      "cell_type": "markdown",
      "source": [
        "- **Variables** in programming are elements which contain data. Data can be in the form of integers, real (floating point numbers), complex numbers, strings, ASCII characters etc.\n",
        "- **Operators** include logical, arithmetic and statistical ones.\n",
        "- **Collections** are groups of variables. These include lists, tuples, dictionaries and arrays.\n",
        "- **Functions** are self-contained code snippets that receive variables and return a computation on those variables.\n",
        "\n",
        "In this session, we will explore common elements of programming in Python."
      ],
      "metadata": {
        "id": "WI3VIF8SlBcD"
      }
    },
    {
      "cell_type": "markdown",
      "source": [
        "# Simple variables and variable operations\n",
        "\n",
        "Let's look at a simple statement in Python. Here we assign the integer value 4 to the variable `a`:"
      ],
      "metadata": {
        "id": "-9UxtAF18TIi"
      }
    },
    {
      "cell_type": "code",
      "source": [
        "a=4"
      ],
      "metadata": {
        "id": "A-UjNr2x8BYq"
      },
      "execution_count": 2,
      "outputs": []
    },
    {
      "cell_type": "markdown",
      "source": [
        "## `print()`\n",
        "\n",
        "We can use the `print()` built-in function to display the contents of the variable (output it to the screen):"
      ],
      "metadata": {
        "id": "D8gIxO6vhswu"
      }
    },
    {
      "cell_type": "code",
      "source": [
        "print(a)"
      ],
      "metadata": {
        "id": "fZ0Gw68lho3U",
        "colab": {
          "base_uri": "https://localhost:8080/"
        },
        "outputId": "2f114952-faa7-41d2-caab-9a79cba7afe3"
      },
      "execution_count": 3,
      "outputs": [
        {
          "output_type": "stream",
          "name": "stdout",
          "text": [
            "4\n"
          ]
        }
      ]
    },
    {
      "cell_type": "markdown",
      "source": [
        "## Dynamic typing\n",
        "\n",
        "In the example below, we assign the value 4.5 to the floating point variable `b`. It's interesting to note that in the case below that `b` doesn't 'know' it's going to be a floating point number until it is assigned. This _dynamic typing_ of variables is in contrast to other languages where the type of each variable is declared explicitly (_static typing_). For more information about dynamic vs. static typing, [see here](https://www.geeksforgeeks.org/python/type-systemsdynamic-typing-static-typing-duck-typing/) (for example)."
      ],
      "metadata": {
        "id": "5f_oQ1X8-fQJ"
      }
    },
    {
      "cell_type": "code",
      "source": [
        "b = -4.5\n",
        "print(b)"
      ],
      "metadata": {
        "id": "QGsSJcrF8hVN",
        "colab": {
          "base_uri": "https://localhost:8080/"
        },
        "outputId": "eeb6512b-b746-4c65-f843-579c632b855d"
      },
      "execution_count": 8,
      "outputs": [
        {
          "output_type": "stream",
          "name": "stdout",
          "text": [
            "-4.5\n"
          ]
        }
      ]
    },
    {
      "cell_type": "markdown",
      "source": [
        "Note that because of dynamic assignment of variables, a variable can be (re-)assigned to a value of a different type at a later stage in the program."
      ],
      "metadata": {
        "id": "uyQwkqVloYRI"
      }
    },
    {
      "cell_type": "markdown",
      "source": [
        "## Built-in functions\n",
        "\n",
        "There are many built-in functions in Python (see [here for a comprehensive list and exlanation of other built-in functions](https://docs.python.org/3/library/functions.html)). Some fairly familiar ones are `max()`, `min()`, `abs()`.\n",
        "\n",
        "For example, this returns the absolute value of `b`:"
      ],
      "metadata": {
        "id": "cwr3UvCph5KV"
      }
    },
    {
      "cell_type": "code",
      "source": [
        "print(abs(b))"
      ],
      "metadata": {
        "colab": {
          "base_uri": "https://localhost:8080/"
        },
        "id": "EQ4Qzgy2mcjC",
        "outputId": "702feb40-2456-4fef-de88-8aad38c344bd"
      },
      "execution_count": 9,
      "outputs": [
        {
          "output_type": "stream",
          "name": "stdout",
          "text": [
            "4.5\n"
          ]
        }
      ]
    },
    {
      "cell_type": "markdown",
      "source": [
        "This raises `b` to the power 2:"
      ],
      "metadata": {
        "id": "uYEY1GPmm1og"
      }
    },
    {
      "cell_type": "code",
      "source": [
        "print(pow(b,2))"
      ],
      "metadata": {
        "colab": {
          "base_uri": "https://localhost:8080/"
        },
        "id": "hDEyoNrxmxK_",
        "outputId": "09da0cb7-c368-4702-88f7-4eb9d5246874"
      },
      "execution_count": 10,
      "outputs": [
        {
          "output_type": "stream",
          "name": "stdout",
          "text": [
            "20.25\n"
          ]
        }
      ]
    },
    {
      "cell_type": "markdown",
      "source": [
        "## `help()`\n",
        "\n",
        "The `help()` function can be used to find out how to use built-in functions like `print()`:\n"
      ],
      "metadata": {
        "id": "ma5Dwzwqidcg"
      }
    },
    {
      "cell_type": "code",
      "source": [
        "help(print)"
      ],
      "metadata": {
        "colab": {
          "base_uri": "https://localhost:8080/"
        },
        "id": "GrSeQZN6id6Q",
        "outputId": "160438f5-26f7-4f1e-95ca-2745eaca3e1b"
      },
      "execution_count": 11,
      "outputs": [
        {
          "output_type": "stream",
          "name": "stdout",
          "text": [
            "Help on built-in function print in module builtins:\n",
            "\n",
            "print(*args, sep=' ', end='\\n', file=None, flush=False)\n",
            "    Prints the values to a stream, or to sys.stdout by default.\n",
            "\n",
            "    sep\n",
            "      string inserted between values, default a space.\n",
            "    end\n",
            "      string appended after the last value, default a newline.\n",
            "    file\n",
            "      a file-like object (stream); defaults to the current sys.stdout.\n",
            "    flush\n",
            "      whether to forcibly flush the stream.\n",
            "\n"
          ]
        }
      ]
    },
    {
      "cell_type": "markdown",
      "source": [
        "## `type()`\n",
        "\n",
        "We can find out the type of a variable using the built-in function `type()`:"
      ],
      "metadata": {
        "id": "Ag83x-t4te9-"
      }
    },
    {
      "cell_type": "code",
      "source": [
        "print(type(b))"
      ],
      "metadata": {
        "colab": {
          "base_uri": "https://localhost:8080/"
        },
        "id": "Bh1FLiSEgz8b",
        "outputId": "ac3bbf80-b945-4ddd-dfa7-b114f0fd7b72"
      },
      "execution_count": 12,
      "outputs": [
        {
          "output_type": "stream",
          "name": "stdout",
          "text": [
            "<class 'float'>\n"
          ]
        }
      ]
    },
    {
      "cell_type": "markdown",
      "source": [
        "## A word about variables, classes, instances and objects\n",
        "\n",
        "The *type* of each variable is a *class*. In programming parlance (and object-oriented programming in particular), a class is a template or blueprint for variables that share the same methods and properties. The functionality for each variable is therefore defined by its class. In our example, `b` is a variable of class `float`.\n",
        "\n",
        "The term _instance_ is often used to refer to a specific realization of a class. For all intents and purposes, an instance of a class is what you would normally think of as a variable. In our example, `b` is an _instance_ of the class `float`.\n",
        "\n",
        "You may also hear the term _object_ used to refer to classes or variable. In most cases, this will mean 'an instance of a class' - in other words, a variable. Note that there is a lot more to the concept of objects in object-oriented programming, but we will not go into this at this stage. In our example, `b` could also be said to be an _object_ of type `float`.\n",
        "\n",
        "These distinctions will probably feel very abstract and unnecessary at this stage, but they will come in handy later on. The main point at this stage is to introduce the terminology to avoid confusion when these terms are used later on in this course!\n",
        "\n",
        "We will talk about classes in more detail in a future lesson."
      ],
      "metadata": {
        "id": "c10kcclMgtUE"
      }
    },
    {
      "cell_type": "markdown",
      "source": [
        "## Attributes and Methods\n",
        "\n",
        "A class defines the _attributes_ or _properties_ that instances of this class will have. Attributes are themselves variables of some (simpler) type. A variable of type `float` would obviously need to have a property that holds its value. A variable of type `string` would need to hold an array of characters, etc. In our example, the variable `b` has an attribute called `real`, which holds the real part of the number, and which we can print out as a regular variable as follows:\n"
      ],
      "metadata": {
        "id": "EM6aVQohv9d8"
      }
    },
    {
      "cell_type": "code",
      "source": [
        "print (b.real)"
      ],
      "metadata": {
        "colab": {
          "base_uri": "https://localhost:8080/"
        },
        "id": "AWP8KBLCyA4E",
        "outputId": "311f1929-7276-4d77-dade-2a01ead797d6"
      },
      "execution_count": 13,
      "outputs": [
        {
          "output_type": "stream",
          "name": "stdout",
          "text": [
            "-4.5\n"
          ]
        }
      ]
    },
    {
      "cell_type": "markdown",
      "source": [
        "A class may also define _methods_, which are functions that can only be invoked on an instance of that class. These typically provide a way to _interact_ with the object in a more convenient manner. In our example, the variable `b`, being an instance of type `float`, has a method called `is_integer()`, whose sole purpose is to report whether the variable can safely be converted to an integer without loss of information:"
      ],
      "metadata": {
        "id": "N3_8uYYAyAN6"
      }
    },
    {
      "cell_type": "code",
      "source": [
        "print (b.is_integer())"
      ],
      "metadata": {
        "colab": {
          "base_uri": "https://localhost:8080/"
        },
        "id": "kEhiODSqxt4K",
        "outputId": "53c6f96f-96ac-46ed-ce04-aec40591183c"
      },
      "execution_count": 14,
      "outputs": [
        {
          "output_type": "stream",
          "name": "stdout",
          "text": [
            "False\n"
          ]
        }
      ]
    },
    {
      "cell_type": "markdown",
      "source": [
        "Note the syntax used to access attributes and methods: since these only make sense in the context of a specific instance, the variable is provided first, followed by a name of the relevant property or method, separated by a single dot. This is called [dot notation](https://www.askpython.com/python/built-in-methods/dot-notation), and is common to many programming languages."
      ],
      "metadata": {
        "id": "NICDKXv_xyk6"
      }
    },
    {
      "cell_type": "markdown",
      "source": [
        "## `dir()`\n",
        "\n",
        "We can list the properties and methods of any object using the very useful function `dir()`:"
      ],
      "metadata": {
        "id": "FojN2FZshYC5"
      }
    },
    {
      "cell_type": "code",
      "source": [
        "dir(b)"
      ],
      "metadata": {
        "colab": {
          "base_uri": "https://localhost:8080/"
        },
        "id": "6cFBebIShS9s",
        "outputId": "36c0dbdd-c222-428d-c373-2333a51d7333"
      },
      "execution_count": 15,
      "outputs": [
        {
          "output_type": "execute_result",
          "data": {
            "text/plain": [
              "['__abs__',\n",
              " '__add__',\n",
              " '__bool__',\n",
              " '__ceil__',\n",
              " '__class__',\n",
              " '__delattr__',\n",
              " '__dir__',\n",
              " '__divmod__',\n",
              " '__doc__',\n",
              " '__eq__',\n",
              " '__float__',\n",
              " '__floor__',\n",
              " '__floordiv__',\n",
              " '__format__',\n",
              " '__ge__',\n",
              " '__getattribute__',\n",
              " '__getformat__',\n",
              " '__getnewargs__',\n",
              " '__getstate__',\n",
              " '__gt__',\n",
              " '__hash__',\n",
              " '__init__',\n",
              " '__init_subclass__',\n",
              " '__int__',\n",
              " '__le__',\n",
              " '__lt__',\n",
              " '__mod__',\n",
              " '__mul__',\n",
              " '__ne__',\n",
              " '__neg__',\n",
              " '__new__',\n",
              " '__pos__',\n",
              " '__pow__',\n",
              " '__radd__',\n",
              " '__rdivmod__',\n",
              " '__reduce__',\n",
              " '__reduce_ex__',\n",
              " '__repr__',\n",
              " '__rfloordiv__',\n",
              " '__rmod__',\n",
              " '__rmul__',\n",
              " '__round__',\n",
              " '__rpow__',\n",
              " '__rsub__',\n",
              " '__rtruediv__',\n",
              " '__setattr__',\n",
              " '__sizeof__',\n",
              " '__str__',\n",
              " '__sub__',\n",
              " '__subclasshook__',\n",
              " '__truediv__',\n",
              " '__trunc__',\n",
              " 'as_integer_ratio',\n",
              " 'conjugate',\n",
              " 'fromhex',\n",
              " 'hex',\n",
              " 'imag',\n",
              " 'is_integer',\n",
              " 'real']"
            ]
          },
          "metadata": {},
          "execution_count": 15
        }
      ]
    },
    {
      "cell_type": "markdown",
      "source": [
        "You can find out whether each of these is a _property_ or a _method_ using the `type()` built-in function, for example:\n",
        "\n"
      ],
      "metadata": {
        "id": "pIk67MBvgzEI"
      }
    },
    {
      "cell_type": "code",
      "source": [
        "print (type(b.as_integer_ratio))"
      ],
      "metadata": {
        "colab": {
          "base_uri": "https://localhost:8080/"
        },
        "id": "bE0fu1MAvHJf",
        "outputId": "9b1e0b7a-1128-4142-fb84-81c7c28ae944"
      },
      "execution_count": 16,
      "outputs": [
        {
          "output_type": "stream",
          "name": "stdout",
          "text": [
            "<class 'builtin_function_or_method'>\n"
          ]
        }
      ]
    },
    {
      "cell_type": "markdown",
      "source": [
        "This is a method, which you can invoke as follows. Note the empty brackets after the method name: this makes it clear that we are invoking the method as a function (not an attribute):"
      ],
      "metadata": {
        "id": "gMnMK9cfvjPt"
      }
    },
    {
      "cell_type": "code",
      "source": [
        "print (b.as_integer_ratio())"
      ],
      "metadata": {
        "colab": {
          "base_uri": "https://localhost:8080/"
        },
        "id": "2GfYd-DUvi0W",
        "outputId": "e52c3db4-d914-4123-f727-af88602e10f4"
      },
      "execution_count": 17,
      "outputs": [
        {
          "output_type": "stream",
          "name": "stdout",
          "text": [
            "(-9, 2)\n"
          ]
        }
      ]
    },
    {
      "cell_type": "markdown",
      "source": [
        "Another example:"
      ],
      "metadata": {
        "id": "JWvqs6lwvrPJ"
      }
    },
    {
      "cell_type": "code",
      "source": [
        "print (type(b.real))"
      ],
      "metadata": {
        "colab": {
          "base_uri": "https://localhost:8080/"
        },
        "id": "WWu5Mw2rvaOQ",
        "outputId": "db4e645f-029d-4544-bf2c-3958da6abfb7"
      },
      "execution_count": 18,
      "outputs": [
        {
          "output_type": "stream",
          "name": "stdout",
          "text": [
            "<class 'float'>\n"
          ]
        }
      ]
    },
    {
      "cell_type": "markdown",
      "source": [
        "This is a property, which we can use as a regular variable:"
      ],
      "metadata": {
        "id": "RSxf41k6vt0r"
      }
    },
    {
      "cell_type": "code",
      "source": [
        "print (b.real)"
      ],
      "metadata": {
        "colab": {
          "base_uri": "https://localhost:8080/"
        },
        "id": "yclHY9LVvyJF",
        "outputId": "bc95e6aa-e243-4525-d640-d5c0055eb102"
      },
      "execution_count": 19,
      "outputs": [
        {
          "output_type": "stream",
          "name": "stdout",
          "text": [
            "-4.5\n"
          ]
        }
      ]
    },
    {
      "cell_type": "markdown",
      "source": [
        "## Handling text: strings\n",
        "\n",
        "Here we assign the text `kalypso` to the variable `forename`:"
      ],
      "metadata": {
        "id": "AAvYciuA-B7c"
      }
    },
    {
      "cell_type": "code",
      "source": [
        "forename='kalypso'\n",
        "print(forename)"
      ],
      "metadata": {
        "id": "gHCncZPi8sNz",
        "colab": {
          "base_uri": "https://localhost:8080/"
        },
        "outputId": "1d888c3e-02f2-4599-cc62-7b754e21c95c"
      },
      "execution_count": 20,
      "outputs": [
        {
          "output_type": "stream",
          "name": "stdout",
          "text": [
            "kalypso\n"
          ]
        }
      ]
    },
    {
      "cell_type": "markdown",
      "source": [
        "This is a variable of type `str`. In programming, a variable designed to hold text is typically called a _string_."
      ],
      "metadata": {
        "id": "awE99qxn1deO"
      }
    },
    {
      "cell_type": "code",
      "source": [
        "print (type(forename))"
      ],
      "metadata": {
        "colab": {
          "base_uri": "https://localhost:8080/"
        },
        "id": "90JTsV_71mdQ",
        "outputId": "d5587ecc-fe92-465d-8003-f1e05d6bf9ef"
      },
      "execution_count": 21,
      "outputs": [
        {
          "output_type": "stream",
          "name": "stdout",
          "text": [
            "<class 'str'>\n"
          ]
        }
      ]
    },
    {
      "cell_type": "markdown",
      "source": [
        " Let's find out about functions and method we can apply to the string `forename`:"
      ],
      "metadata": {
        "id": "ofVwBQuqkGRB"
      }
    },
    {
      "cell_type": "code",
      "source": [
        "dir(forename)"
      ],
      "metadata": {
        "colab": {
          "base_uri": "https://localhost:8080/"
        },
        "id": "-QjVBexykFPi",
        "outputId": "43074542-8262-46fa-a0a0-da039ed40606"
      },
      "execution_count": 22,
      "outputs": [
        {
          "output_type": "execute_result",
          "data": {
            "text/plain": [
              "['__add__',\n",
              " '__class__',\n",
              " '__contains__',\n",
              " '__delattr__',\n",
              " '__dir__',\n",
              " '__doc__',\n",
              " '__eq__',\n",
              " '__format__',\n",
              " '__ge__',\n",
              " '__getattribute__',\n",
              " '__getitem__',\n",
              " '__getnewargs__',\n",
              " '__getstate__',\n",
              " '__gt__',\n",
              " '__hash__',\n",
              " '__init__',\n",
              " '__init_subclass__',\n",
              " '__iter__',\n",
              " '__le__',\n",
              " '__len__',\n",
              " '__lt__',\n",
              " '__mod__',\n",
              " '__mul__',\n",
              " '__ne__',\n",
              " '__new__',\n",
              " '__reduce__',\n",
              " '__reduce_ex__',\n",
              " '__repr__',\n",
              " '__rmod__',\n",
              " '__rmul__',\n",
              " '__setattr__',\n",
              " '__sizeof__',\n",
              " '__str__',\n",
              " '__subclasshook__',\n",
              " 'capitalize',\n",
              " 'casefold',\n",
              " 'center',\n",
              " 'count',\n",
              " 'encode',\n",
              " 'endswith',\n",
              " 'expandtabs',\n",
              " 'find',\n",
              " 'format',\n",
              " 'format_map',\n",
              " 'index',\n",
              " 'isalnum',\n",
              " 'isalpha',\n",
              " 'isascii',\n",
              " 'isdecimal',\n",
              " 'isdigit',\n",
              " 'isidentifier',\n",
              " 'islower',\n",
              " 'isnumeric',\n",
              " 'isprintable',\n",
              " 'isspace',\n",
              " 'istitle',\n",
              " 'isupper',\n",
              " 'join',\n",
              " 'ljust',\n",
              " 'lower',\n",
              " 'lstrip',\n",
              " 'maketrans',\n",
              " 'partition',\n",
              " 'removeprefix',\n",
              " 'removesuffix',\n",
              " 'replace',\n",
              " 'rfind',\n",
              " 'rindex',\n",
              " 'rjust',\n",
              " 'rpartition',\n",
              " 'rsplit',\n",
              " 'rstrip',\n",
              " 'split',\n",
              " 'splitlines',\n",
              " 'startswith',\n",
              " 'strip',\n",
              " 'swapcase',\n",
              " 'title',\n",
              " 'translate',\n",
              " 'upper',\n",
              " 'zfill']"
            ]
          },
          "metadata": {},
          "execution_count": 22
        }
      ]
    },
    {
      "cell_type": "markdown",
      "source": [
        "## `len()`\n",
        "\n",
        "Use the built in function `len()` to find the _length_ of a variable - in this case, the number of characters in the string:"
      ],
      "metadata": {
        "id": "V92HOhVmkUqi"
      }
    },
    {
      "cell_type": "code",
      "source": [
        "print(len(forename))"
      ],
      "metadata": {
        "colab": {
          "base_uri": "https://localhost:8080/"
        },
        "id": "xbRESB-UkSSS",
        "outputId": "872eed80-97c9-48e9-a475-44096894c3bd"
      },
      "execution_count": 23,
      "outputs": [
        {
          "output_type": "stream",
          "name": "stdout",
          "text": [
            "7\n"
          ]
        }
      ]
    },
    {
      "cell_type": "markdown",
      "source": [
        "Many methods are also available, as shown in the `dir()` listing above. We can use the `.capitalize()` method to produce to produce an uppercase letter for the string:"
      ],
      "metadata": {
        "id": "D8uwQTibkk1k"
      }
    },
    {
      "cell_type": "code",
      "source": [
        "print(forename.capitalize())"
      ],
      "metadata": {
        "colab": {
          "base_uri": "https://localhost:8080/"
        },
        "id": "pA-sUuZMkjSc",
        "outputId": "2015b78a-53da-4433-f367-dbf25781c5af"
      },
      "execution_count": 24,
      "outputs": [
        {
          "output_type": "stream",
          "name": "stdout",
          "text": [
            "Kalypso\n"
          ]
        }
      ]
    },
    {
      "cell_type": "markdown",
      "source": [
        "Some methods also expect additional _arguments_. For example, `.endswith()` checks whether the string ends with a particular suffix, which you need to specify:"
      ],
      "metadata": {
        "id": "GvVYn1aB2eIC"
      }
    },
    {
      "cell_type": "code",
      "source": [
        "forename.endswith ('pso')"
      ],
      "metadata": {
        "colab": {
          "base_uri": "https://localhost:8080/"
        },
        "id": "kM4gHWuV2rAN",
        "outputId": "8db54787-f042-44cf-c649-110d9142c4c5"
      },
      "execution_count": 25,
      "outputs": [
        {
          "output_type": "execute_result",
          "data": {
            "text/plain": [
              "True"
            ]
          },
          "metadata": {},
          "execution_count": 25
        }
      ]
    },
    {
      "cell_type": "markdown",
      "source": [
        "If in doubt, you can use the `help()` built-in function to find out how to use any of these methods:"
      ],
      "metadata": {
        "id": "0R_0Xmz-2y4F"
      }
    },
    {
      "cell_type": "code",
      "source": [
        "help (forename.endswith)"
      ],
      "metadata": {
        "colab": {
          "base_uri": "https://localhost:8080/"
        },
        "id": "PM80QW7q27ey",
        "outputId": "659770c4-4f46-4b15-936b-50a8a098be9c"
      },
      "execution_count": 26,
      "outputs": [
        {
          "output_type": "stream",
          "name": "stdout",
          "text": [
            "Help on built-in function endswith:\n",
            "\n",
            "endswith(...) method of builtins.str instance\n",
            "    S.endswith(suffix[, start[, end]]) -> bool\n",
            "\n",
            "    Return True if S ends with the specified suffix, False otherwise.\n",
            "    With optional start, test S beginning at that position.\n",
            "    With optional end, stop comparing S at that position.\n",
            "    suffix can also be a tuple of strings to try.\n",
            "\n"
          ]
        }
      ]
    },
    {
      "cell_type": "markdown",
      "source": [
        "## Naming conventions\n",
        "\n",
        "It is considered good practice in programming circles to use descriptive names for the variables and functions used. Moreover, variable names should be in lower case, with individual words seperated by an underscore.\n",
        "\n",
        "Different conventions apply to types and classes. We will cover this in due course."
      ],
      "metadata": {
        "id": "octk46S44HcD"
      }
    },
    {
      "cell_type": "markdown",
      "source": [
        "## Exercise 1\n",
        "\n",
        "Try some of the other methods and built-in functions associated with strings. Remember Google is your friend!"
      ],
      "metadata": {
        "id": "fpO-MH77Q3J9"
      }
    },
    {
      "cell_type": "code",
      "source": [
        "print(type(forename))\n",
        "print(forename.swapcase())\n",
        "print(forename.istitle())\n",
        "help(forename.istitle)\n"
      ],
      "metadata": {
        "id": "0unF0vBxH4zZ",
        "colab": {
          "base_uri": "https://localhost:8080/"
        },
        "outputId": "bf98e034-5c33-4c62-8dcf-4ee3b205fd6c"
      },
      "execution_count": 39,
      "outputs": [
        {
          "output_type": "stream",
          "name": "stdout",
          "text": [
            "<class 'str'>\n",
            "KALYPSO\n",
            "False\n",
            "Help on built-in function istitle:\n",
            "\n",
            "istitle() method of builtins.str instance\n",
            "    Return True if the string is a title-cased string, False otherwise.\n",
            "\n",
            "    In a title-cased string, upper- and title-case characters may only\n",
            "    follow uncased characters and lowercase characters only cased ones.\n",
            "\n"
          ]
        }
      ]
    },
    {
      "cell_type": "markdown",
      "source": [
        "## Boolean types (True or False)\n",
        "\n",
        "Boolean variables can also be defined to encode simple True or False conditions:"
      ],
      "metadata": {
        "id": "W8PB8ZeLZTjq"
      }
    },
    {
      "cell_type": "code",
      "source": [
        "a_logical=True\n",
        "b_logical=False\n",
        "\n",
        "print (a_logical, b_logical)"
      ],
      "metadata": {
        "id": "vNAunUAGZipL",
        "colab": {
          "base_uri": "https://localhost:8080/"
        },
        "outputId": "34471b78-04e5-403a-ca91-af56f2e1c070"
      },
      "execution_count": 40,
      "outputs": [
        {
          "output_type": "stream",
          "name": "stdout",
          "text": [
            "True False\n"
          ]
        }
      ]
    },
    {
      "cell_type": "markdown",
      "source": [
        "## Complex numbers\n",
        "\n",
        "Likewise, there is a class to hold complex numbers:"
      ],
      "metadata": {
        "id": "2c902iWO3mAq"
      }
    },
    {
      "cell_type": "code",
      "source": [
        "c=5+2j\n",
        "c1=3+4j\n",
        "\n",
        "print(c,c1,c+c1)"
      ],
      "metadata": {
        "colab": {
          "base_uri": "https://localhost:8080/"
        },
        "id": "tBJu_8kY3fIc",
        "outputId": "75fc4480-63dc-4665-fba9-b77435d91b4d"
      },
      "execution_count": 41,
      "outputs": [
        {
          "output_type": "stream",
          "name": "stdout",
          "text": [
            "(5+2j) (3+4j) (8+6j)\n"
          ]
        }
      ]
    },
    {
      "cell_type": "markdown",
      "source": [
        "# Using variables: operators\n",
        "\n",
        "Python provides many operators to perform basic operations. We'll go through a few of these here. Please refer to the [online documentation for the full list](https://www.w3schools.com/python/python_operators.asp).\n"
      ],
      "metadata": {
        "id": "bXuC8QCx9jGN"
      }
    },
    {
      "cell_type": "markdown",
      "source": [
        "## Arithmetic operations\n",
        "\n",
        "You can use arithmetic operators in Python to perform calculations or combine strings."
      ],
      "metadata": {
        "id": "KhwmyzGoEkCV"
      }
    },
    {
      "cell_type": "code",
      "source": [
        "# multiplication, addition and division\n",
        "# Here, we compute the total cost of an item given the discount VAT rates\n",
        "VAT_rate_perc = 20.0\n",
        "base_cost_pounds= 30.0\n",
        "sale_discount_perc=50.0\n",
        "total_cost = base_cost_pounds*(1-sale_discount_perc/100)*(1+VAT_rate_perc/100)\n",
        "print(total_cost)\n",
        "\n",
        "# Note the use of the string modulo operator % and the floating point format (5 digits, 2 decimal places)\n",
        "print(\"Total Cost : %5.2f\" % (total_cost))"
      ],
      "metadata": {
        "id": "NQSuh91d9JDW",
        "colab": {
          "base_uri": "https://localhost:8080/"
        },
        "outputId": "5af5322a-6a0f-437a-8299-f639ce88d160"
      },
      "execution_count": 42,
      "outputs": [
        {
          "output_type": "stream",
          "name": "stdout",
          "text": [
            "18.0\n",
            "Total Cost : 18.00\n"
          ]
        }
      ]
    },
    {
      "cell_type": "markdown",
      "source": [
        "For more information about string formatting using the modulo operator, have a look at [this tutorial](https://realpython.com/python-modulo-string-formatting/) (for example)."
      ],
      "metadata": {
        "id": "UerWLuqDC8VU"
      }
    },
    {
      "cell_type": "markdown",
      "source": [
        "You can add, takeaway, multiply, etc. by another term and reassign it to the original variable. Here, since the original value of `a` was 4, the new value is 12."
      ],
      "metadata": {
        "id": "mZOAvQ0u-fSV"
      }
    },
    {
      "cell_type": "code",
      "source": [
        "a=4\n",
        "print(a)\n",
        "a+=2\n",
        "print(a)\n",
        "a*=6\n",
        "print(a)\n",
        "a/=3\n",
        "print(a)"
      ],
      "metadata": {
        "id": "o-tXg0NfIiM_",
        "colab": {
          "base_uri": "https://localhost:8080/"
        },
        "outputId": "8e227769-9a92-410f-c910-b6013123670f"
      },
      "execution_count": 43,
      "outputs": [
        {
          "output_type": "stream",
          "name": "stdout",
          "text": [
            "4\n",
            "6\n",
            "36\n",
            "12.0\n"
          ]
        }
      ]
    },
    {
      "cell_type": "markdown",
      "source": [
        "What is the resulting type when we add a floating point and integer together?"
      ],
      "metadata": {
        "id": "wWvagtdw-j4I"
      }
    },
    {
      "cell_type": "code",
      "source": [
        "\n",
        "print(a)\n",
        "a = int(a)\n",
        "print(type(a))\n",
        "print(type(b))\n",
        "c=a+b\n",
        "print(c, type(c))"
      ],
      "metadata": {
        "colab": {
          "base_uri": "https://localhost:8080/"
        },
        "id": "6jg_OtQ8-iPo",
        "outputId": "9c126e96-c2e9-471b-9067-568270388759"
      },
      "execution_count": 63,
      "outputs": [
        {
          "output_type": "stream",
          "name": "stdout",
          "text": [
            "12\n",
            "<class 'int'>\n",
            "<class 'float'>\n",
            "7.5 <class 'float'>\n"
          ]
        }
      ]
    },
    {
      "cell_type": "markdown",
      "source": [
        "As you can see, operations with mixed types provide their result using the most general of the two input types.\n"
      ],
      "metadata": {
        "id": "FThiuieOrvEv"
      }
    },
    {
      "cell_type": "markdown",
      "source": [
        "We can use the modulo operator to compute the remainder of a division:"
      ],
      "metadata": {
        "id": "pzx21yOR-rnt"
      }
    },
    {
      "cell_type": "code",
      "source": [
        "left_over=6%4\n",
        "print(left_over)"
      ],
      "metadata": {
        "colab": {
          "base_uri": "https://localhost:8080/"
        },
        "id": "02URuGtF-mxC",
        "outputId": "1473047c-ad6f-427c-ae2b-8db83576c88e"
      },
      "execution_count": 64,
      "outputs": [
        {
          "output_type": "stream",
          "name": "stdout",
          "text": [
            "2\n"
          ]
        }
      ]
    },
    {
      "cell_type": "markdown",
      "source": [
        "## String concatenation: the addition operator"
      ],
      "metadata": {
        "id": "YL2o-WcK9-rM"
      }
    },
    {
      "cell_type": "code",
      "source": [
        "forename = 'Kalypso'\n",
        "surname = 'Martini'\n",
        "purchase_item = \"Shirt\"\n"
      ],
      "metadata": {
        "id": "5hUnDhBBILUe"
      },
      "execution_count": 65,
      "outputs": []
    },
    {
      "cell_type": "markdown",
      "source": [
        "We can use the addition operator to concatenate or join together strings to form a longer string. Note the additional blank string to provide a space between the forename and surname:"
      ],
      "metadata": {
        "id": "9At67DFC_O3Z"
      }
    },
    {
      "cell_type": "code",
      "source": [
        "full_name = forename + ' ' + surname\n",
        "print (full_name)"
      ],
      "metadata": {
        "id": "0iW4lMeN_NTA",
        "colab": {
          "base_uri": "https://localhost:8080/"
        },
        "outputId": "b810fe27-5fbd-4d1e-fcfe-adb584962395"
      },
      "execution_count": 66,
      "outputs": [
        {
          "output_type": "stream",
          "name": "stdout",
          "text": [
            "Kalypso Martini\n"
          ]
        }
      ]
    },
    {
      "cell_type": "markdown",
      "source": [
        "## More advanced string formatting\n",
        "\n",
        "Python provides a number of ways of formatting strings, some of which have now fallen out of favour as newer ways have been introduced.\n",
        "\n"
      ],
      "metadata": {
        "id": "YgIY2fTLyc1A"
      }
    },
    {
      "cell_type": "markdown",
      "source": [
        "### Python  modulo string formatting\n",
        "\n",
        "A common method is to use the `%` operator to substitute variables into the corresponding *placeholders* in the main format string. These placeholders are specified using `%` sign followed by a *format specifier* to denote what type of formatting to apply to that variable.\n",
        "\n",
        "For full details, please refer to the [online documentation](https://realpython.com/python-modulo-string-formatting/). The example below will illustrate the main idea:\n"
      ],
      "metadata": {
        "id": "kMezOFKIzMwA"
      }
    },
    {
      "cell_type": "code",
      "source": [
        "# %s  indicates a string, %5.2f indicates a floating point number of field width of 5 characters and 2 decimal places.\n",
        "print('%s bought a %s for £%5.2f' % (full_name, purchase_item, total_cost))"
      ],
      "metadata": {
        "colab": {
          "base_uri": "https://localhost:8080/"
        },
        "id": "N30HnigjyZe8",
        "outputId": "aaaa8b36-d063-45ae-ffbc-5090c957a77e"
      },
      "execution_count": 67,
      "outputs": [
        {
          "output_type": "stream",
          "name": "stdout",
          "text": [
            "Kalypso Martini bought a Shirt for £18.00\n"
          ]
        }
      ]
    },
    {
      "cell_type": "markdown",
      "source": [
        "### Python f-strings\n",
        "\n",
        "Python 3.6 introduced support for f-strings, which is now the preferred way of formatting text. To use this notation, simply add a single `f` character in front of the string, and place the names of the variables you need to substitute in the main string, enclosed in braces `{}`. If necessary, more specific formatting information can be added after a colon (`:`) within the braces.\n",
        "\n",
        "Refer to the [online documentation](https://docs.python.org/3/library/string.html#formatspec) for a full list of the various formatting specifiers that can be used.\n",
        "\n",
        "For example:"
      ],
      "metadata": {
        "id": "hzbqHgHkz_a6"
      }
    },
    {
      "cell_type": "code",
      "source": [
        "print(f'{full_name} bought a {purchase_item} for £{total_cost:5.2f}')"
      ],
      "metadata": {
        "colab": {
          "base_uri": "https://localhost:8080/"
        },
        "id": "Xt2zwBti0o09",
        "outputId": "de5af7c3-fb5e-4eb7-8ef0-c713bb63926d"
      },
      "execution_count": 68,
      "outputs": [
        {
          "output_type": "stream",
          "name": "stdout",
          "text": [
            "Kalypso Martini bought a Shirt for £18.00\n"
          ]
        }
      ]
    },
    {
      "cell_type": "markdown",
      "source": [
        "### Exercise 2\n",
        "\n",
        "Produce formatted print output for a receipt detailing the breakdown of how much Kalypso has spent including the discount and the VAT."
      ],
      "metadata": {
        "id": "axpWjv8K4Te3"
      }
    },
    {
      "cell_type": "code",
      "source": [
        "print(f'VAT = {VAT_rate_perc}%')\n",
        "print(f'COST = £{base_cost_pounds}')\n",
        "print(f'DISCOUNT={sale_discount_perc}%')\n",
        "total_cost = base_cost_pounds*(1-sale_discount_perc/100)*(1+VAT_rate_perc/100)\n",
        "print(f'TOTAL COST= £{total_cost}')\n"
      ],
      "metadata": {
        "id": "Y5ou2an3Ht-u",
        "colab": {
          "base_uri": "https://localhost:8080/"
        },
        "outputId": "32f9422f-a617-4898-e8ef-fb15fb3cff77"
      },
      "execution_count": 77,
      "outputs": [
        {
          "output_type": "stream",
          "name": "stdout",
          "text": [
            "VAT = 20.0%\n",
            "COST = £30.0\n",
            "DISCOUNT=50.0%\n",
            "TOTAL COST= £18.0\n"
          ]
        }
      ]
    },
    {
      "cell_type": "markdown",
      "source": [
        "## Logical operators\n",
        "\n",
        "Logical Operators are operators such as `>`, `<`, `>=`, `!=`, `and`, `not` and `or`. When used, these operators produce a BOOLEAN output (`True` or `False`).\n",
        "\n",
        "\n",
        "\n"
      ],
      "metadata": {
        "id": "U5PPZWw0x7RJ"
      }
    },
    {
      "cell_type": "code",
      "source": [
        "a=50\n",
        "b=40\n",
        "c=40\n",
        "d=70\n",
        "TrueOrFalse = a>b and d>c\n",
        "print(TrueOrFalse) # is a  greater than b and d greater than c? Both are True so this expression should be True!\n",
        "\n",
        "TrueOrFalse = b!=c or c>d # is b not equal to c or is c greater than d? Both are false to answer should be False!\n",
        "print(TrueOrFalse)"
      ],
      "metadata": {
        "id": "-CdbvLAXWLZr",
        "colab": {
          "base_uri": "https://localhost:8080/"
        },
        "outputId": "bd6c214d-3a39-4901-8388-24d81b76f12b"
      },
      "execution_count": 81,
      "outputs": [
        {
          "output_type": "stream",
          "name": "stdout",
          "text": [
            "True\n",
            "False\n"
          ]
        }
      ]
    },
    {
      "cell_type": "markdown",
      "source": [
        "# Conditional Statements\n",
        "\n",
        "We use logical operators to evaluate logical expressions and take actions accordingly. The one you may be familiar with is the `if` statement:"
      ],
      "metadata": {
        "id": "sLLHBkRbYbNQ"
      }
    },
    {
      "cell_type": "code",
      "source": [
        "if condition:\n",
        "  statement1\n",
        "  statement2\n",
        "  ..."
      ],
      "metadata": {
        "colab": {
          "base_uri": "https://localhost:8080/",
          "height": 198
        },
        "id": "12WmkdeSht_k",
        "outputId": "5dc65fca-6e73-4dc6-924c-3a78c5eebbdc"
      },
      "execution_count": 83,
      "outputs": [
        {
          "output_type": "error",
          "ename": "NameError",
          "evalue": "name 'condition' is not defined",
          "traceback": [
            "\u001b[0;31m---------------------------------------------------------------------------\u001b[0m",
            "\u001b[0;31mNameError\u001b[0m                                 Traceback (most recent call last)",
            "\u001b[0;32m/tmp/ipython-input-481381116.py\u001b[0m in \u001b[0;36m<cell line: 0>\u001b[0;34m()\u001b[0m\n\u001b[0;32m----> 1\u001b[0;31m \u001b[0;32mif\u001b[0m \u001b[0mcondition\u001b[0m\u001b[0;34m:\u001b[0m\u001b[0;34m\u001b[0m\u001b[0;34m\u001b[0m\u001b[0m\n\u001b[0m\u001b[1;32m      2\u001b[0m   \u001b[0mstatement1\u001b[0m\u001b[0;34m\u001b[0m\u001b[0;34m\u001b[0m\u001b[0m\n\u001b[1;32m      3\u001b[0m   \u001b[0mstatement2\u001b[0m\u001b[0;34m\u001b[0m\u001b[0;34m\u001b[0m\u001b[0m\n\u001b[1;32m      4\u001b[0m   \u001b[0;34m...\u001b[0m\u001b[0;34m\u001b[0m\u001b[0;34m\u001b[0m\u001b[0m\n",
            "\u001b[0;31mNameError\u001b[0m: name 'condition' is not defined"
          ]
        }
      ]
    },
    {
      "cell_type": "markdown",
      "source": [
        "Note the use of the colon `:` symbol after each conditional statement. This is used to mark the beginning of the block of code to be executed if true (or false, in case of the `else` statement).\n",
        "\n",
        "Note also the use of [indentation](https://www.geeksforgeeks.org/python/indentation-in-python/) to group blocks of code. This is important to ensure the correct lines of code are executed for the correct branch of the `if` statement. Python is fairly unique in that it relies only on indentation to denote code blocks - other languages tend use explicit delimiters such as braces (`{ }`).\n"
      ],
      "metadata": {
        "id": "KClsAhcEhFmM"
      }
    },
    {
      "cell_type": "markdown",
      "source": [
        "As an option, you can also use the `else` statement if you need to execute code if the condition is *not* true:"
      ],
      "metadata": {
        "id": "ETjvgfjshzk0"
      }
    },
    {
      "cell_type": "code",
      "source": [
        "if condition:\n",
        "  statement1_if_true\n",
        "  statement2_if_true\n",
        "  ...\n",
        "else:\n",
        "  statement1_if_false\n",
        "  statement2_if_false\n",
        "  ..."
      ],
      "metadata": {
        "id": "LXDiGc3zhIBK"
      },
      "execution_count": null,
      "outputs": []
    },
    {
      "cell_type": "markdown",
      "source": [
        "\n",
        "Python also provides the `elif` statement, which is a contraction of `else if`:"
      ],
      "metadata": {
        "id": "3wi9J1zlh_mx"
      }
    },
    {
      "cell_type": "code",
      "source": [
        "if condition1:\n",
        "  statement1_if_true\n",
        "  statement2_if_true\n",
        "  ...\n",
        "elif condition2:\n",
        "  statement1_if_true\n",
        "  statement2_if_true\n",
        "  ...\n",
        "else:\n",
        "  statement1_if_false\n",
        "  statement2_if_false\n",
        "  ..."
      ],
      "metadata": {
        "id": "5O1zfeOtiGUi"
      },
      "execution_count": null,
      "outputs": []
    },
    {
      "cell_type": "markdown",
      "source": [
        "Below, we ask a user to put in their age, height and weight and we give them weight advice."
      ],
      "metadata": {
        "id": "6N2NH9AshU79"
      }
    },
    {
      "cell_type": "code",
      "source": [
        "# read values input by user\n",
        "\n",
        "# the input() function outputs a string which may need to be converted to an appropriate 'type':\n",
        "age_in_years = float (input ('Age in Years (xx.x): '))\n",
        "sex = input ('Sex (Enter Male or Female): ')\n",
        "height_metres = float (input ('Height in metres (x.xx): '))\n",
        "weight_kg = float (input ('Weight in kg (xx.x): '))\n",
        "\n",
        "# Body Mass Index is computed from Weight in kg divided by Height in metres squared\n",
        "BMI = weight_kg/height_metres**2\n",
        "\n",
        "# if statement formulation\n",
        "if age_in_years > 18.0:\n",
        "  # note nested if statement structure (use TAB key)\n",
        "  if BMI > 30.0:\n",
        "    print ('You are obese. To get to an ideal weight of ' '%5.1f' ' you need to lose: ' '%5.1f' 'kg' %(22*height_metres**2, (BMI-22)*height_metres**2)) # note one format for inserting variable values within a string and printing them out\n",
        "  elif BMI < 30.0 and BMI > 25.0:\n",
        "    print ('You are overweight. To get to a ideal weight of ' '%5.1f' 'you need to lose: ' '%5.1f' 'kg' %(22*height_metres**2, (BMI-22)*height_metres**2) )\n",
        "  elif BMI < 25.0 and BMI > 18.5:\n",
        "    print ('You are a healthy weight')\n",
        "  else:\n",
        "    print ('You are underweight. To get to a ideal weight of ' '%5.1f' 'you need to gain: ' '%5.1f' 'kg' %(22*height_metres**2, (22-BMI)*height_metres**2)  )\n",
        "\n",
        "# For children and young people (CYP), we use a different calculator for IBW (Ideal Body Weight).\n",
        "# We use the Traub method Traub: IBW in kilograms is calculated in several ways depending on the child's height:\n",
        "# for those under 5 ft, as [(height in cm)² × 1.65]/1,000;\n",
        "# for boys taller than 5 ft, it's 39 + [2.27 × (height in inches - 60)];\n",
        "# and for girls taller than 5 ft, it's 42 + [2.27 x (height in inches - 60)]\n",
        "elif age_in_years < 18.0 and age_in_years > 3.0:\n",
        "  if height_metres > 5*0.3048 and sex == 'Male':\n",
        "      IBW = 39 + (2.27*((height_metres*12)/0.3048-60.0))\n",
        "      # if weight is greater than 10% more than ideal body weight:\n",
        "      if weight_kg > IBW+0.1*weight_kg:\n",
        "        print ('Your child is overweight. To reach an ideal weight they should lose ' '%5.1f'' kg' %(weight_kg-IBW))\n",
        "      elif weight_kg < IBW-0.1*weight_kg:\n",
        "        print ('Your child is underweight. To reach an ideal weight they should gain ' '%5.1f'' kg' %(IBW-weight_kg))\n",
        "      else:\n",
        "        print ('Your child is a healthy weight')\n",
        "\n",
        "  elif height_metres > 5*0.3048 and sex == 'Female':\n",
        "      IBW = 42 + (2.27*((height_metres*12/0.3048-60.0)))\n",
        "      if weight_kg > IBW+0.1*weight_kg:\n",
        "        print ('Your child is overweight. To reach an ideal weight they should lose ' '%5.1f'' kg' %(weight_kg-IBW))\n",
        "      elif weight_kg < IBW-0.1*weight_kg:\n",
        "        print ('Your child is underweight. To reach an ideal weight they should gain ' '%5.1f'' kg' %(IBW-weight_kg))\n",
        "      else:\n",
        "        print ('Your child is a healthy weight')\n",
        "  else:\n",
        "      # Note the use of the ** exponentiation operator here:\n",
        "      IBW = (height_metres*100)**2 * 1.65/1000.0\n",
        "      if weight_kg > IBW+0.1*weight_kg:\n",
        "        print ('Your child is overweight. To reach an ideal weight they should lose ' '%5.1f'' kg' %(weight_kg-IBW))\n",
        "      elif weight_kg < IBW-0.1*weight_kg:\n",
        "        print ('Your child is underweight. To reach an ideal weight they should gain ' '%5.1f'' kg' %(IBW-weight_kg))\n",
        "      else:\n",
        "        print ('Your child is a healthy weight')\n",
        "elif age_in_years < 3.:\n",
        "  print ('This calculator is unsuitable for children under 3 years of age')"
      ],
      "metadata": {
        "id": "gKZVvDxhZTTU",
        "colab": {
          "base_uri": "https://localhost:8080/"
        },
        "outputId": "61eda69a-fc54-4cef-de02-29210094c0d0"
      },
      "execution_count": 84,
      "outputs": [
        {
          "output_type": "stream",
          "name": "stdout",
          "text": [
            "Age in Years (xx.x): 30\n",
            "Sex (Enter Male or Female): Female\n",
            "Height in metres (x.xx): 1.52\n",
            "Weight in kg (xx.x): 55\n",
            "You are a healthy weight\n"
          ]
        }
      ]
    },
    {
      "cell_type": "markdown",
      "source": [
        "## Exercise 3\n",
        "\n",
        "Run the module segment above a few times putting in different values. How easy is it to break the program? Pretty easy hey?\n",
        "In a future lesson, you will learn how to capture errors and deal with them, making your programming more robust.\n",
        "\n",
        "There are a few inefficiencies in the code above. One  involves the use of repeat phrases in conditional statements for Males and Females. Can you make this code more elegant? Rewrite the program below."
      ],
      "metadata": {
        "id": "mwdUiMfnwSZm"
      }
    },
    {
      "cell_type": "code",
      "source": [
        "# Write your cod# read values input by user\n",
        "\n",
        "# the input() function outputs a string which may need to be converted to an appropriate 'type':\n",
        "age_in_years = float (input ('Age in Years (xx.x): '))\n",
        "sex = input ('Sex (Enter Male or Female): ')\n",
        "height_metres = float (input ('Height in metres (x.xx): '))\n",
        "weight_kg = float (input ('Weight in kg (xx.x): '))\n",
        "\n",
        "# Body Mass Index is computed from Weight in kg divided by Height in metres squared\n",
        "BMI = weight_kg/height_metres**2\n",
        "\n",
        "# if statement formulation\n",
        "if age_in_years > 18.0:\n",
        "  # note nested if statement structure (use TAB key)\n",
        "  if BMI > 30.0:\n",
        "    print ('You are obese. To get to an ideal weight of ' '%5.1f' ' you need to lose: ' '%5.1f' 'kg' %(22*height_metres**2, (BMI-22)*height_metres**2)) # note one format for inserting variable values within a string and printing them out\n",
        "  elif BMI < 30.0 and BMI > 25.0:\n",
        "    print ('You are overweight. To get to a ideal weight of ' '%5.1f' 'you need to lose: ' '%5.1f' 'kg' %(22*height_metres**2, (BMI-22)*height_metres**2) )\n",
        "  elif BMI < 25.0 and BMI > 18.5:\n",
        "    print ('You are a healthy weight')\n",
        "  else:\n",
        "    print ('You are underweight. To get to a ideal weight of ' '%5.1f' 'you need to gain: ' '%5.1f' 'kg' %(22*height_metres**2, (22-BMI)*height_metres**2)  )\n",
        "\n",
        "# For children and young people (CYP), we use a different calculator for IBW (Ideal Body Weight).\n",
        "# We use the Traub method Traub: IBW in kilograms is calculated in several ways depending on the child's height:\n",
        "# for those under 5 ft, as [(height in cm)² × 1.65]/1,000;\n",
        "# for boys taller than 5 ft, it's 39 + [2.27 × (height in inches - 60)];\n",
        "# and for girls taller than 5 ft, it's 42 + [2.27 x (height in inches - 60)]\n",
        "elif 3.0 < age_in_years < 18.0:\n",
        "  if height_metres > 5*0.3048 and sex in ['Male','Female']:\n",
        "    base = 39 if sex == 'Male' else 42\n",
        "    IBW = base + (2.27*((height_metres*12)/0.3048-60.0))\n",
        "    # if weight is greater than 10% more than ideal body weight:\n",
        "    if weight_kg > IBW+0.1*weight_kg:\n",
        "      print ('Your child is overweight. To reach an ideal weight they should lose ' '%5.1f'' kg' %(weight_kg-IBW))\n",
        "    elif weight_kg < IBW-0.1*weight_kg:\n",
        "      print ('Your child is underweight. To reach an ideal weight they should gain ' '%5.1f'' kg' %(IBW-weight_kg))\n",
        "    else:\n",
        "        print ('Your child is a healthy weight')\n",
        "  else:\n",
        "      # Note the use of the ** exponentiation operator here:\n",
        "      IBW = (height_metres*100)**2 * 1.65/1000.0\n",
        "      if weight_kg > IBW+0.1*weight_kg:\n",
        "        print ('Your child is overweight. To reach an ideal weight they should lose ' '%5.1f'' kg' %(weight_kg-IBW))\n",
        "      elif weight_kg < IBW-0.1*weight_kg:\n",
        "        print ('Your child is underweight. To reach an ideal weight they should gain ' '%5.1f'' kg' %(IBW-weight_kg))\n",
        "      else:\n",
        "        print ('Your child is a healthy weight')\n",
        "elif age_in_years < 3.:\n",
        "  print ('This calculator is unsuitable for children under 3 years of age')"
      ],
      "metadata": {
        "id": "-bdqoWNOxoof",
        "colab": {
          "base_uri": "https://localhost:8080/"
        },
        "outputId": "9c4166d4-1fe3-4608-d2a6-c41661a65513"
      },
      "execution_count": 89,
      "outputs": [
        {
          "output_type": "stream",
          "name": "stdout",
          "text": [
            "Age in Years (xx.x): 12\n",
            "Sex (Enter Male or Female): Female\n",
            "Height in metres (x.xx): 1.7\n",
            "Weight in kg (xx.x): 43\n",
            "Your child is underweight. To reach an ideal weight they should gain  14.7 kg\n"
          ]
        }
      ]
    },
    {
      "cell_type": "markdown",
      "source": [
        "---\n",
        "\n",
        "# Loops in Python\n",
        "\n",
        "Say we are entering a lot of data to determine body weight and wanted to use the weight advice function repeatedly, we might want to put the function in a loop and call it a number of times until we had finished. There are a couple of ways of doing this."
      ],
      "metadata": {
        "id": "mA-tJdQ6XbHs"
      }
    },
    {
      "cell_type": "markdown",
      "source": [
        "## The `for` loop"
      ],
      "metadata": {
        "id": "L5-E6cmO3KDW"
      }
    },
    {
      "cell_type": "code",
      "source": [
        "def weight_advice(age_in_years, height_metres, weight_kg, sex):\n",
        "    BMI = weight_kg / height_metres**2\n",
        "    ideal_weight = 22 * height_metres**2\n",
        "\n",
        "    if BMI > 30.0:\n",
        "        print(f'You are obese. To get to an ideal weight of {ideal_weight:5.1f} kg you need to lose: {(BMI - 22) * height_metres**2:5.1f} kg')\n",
        "    elif 25.0 < BMI <= 30.0:\n",
        "        print(f'You are overweight. To get to an ideal weight of {ideal_weight:5.1f} kg you need to lose: {(BMI - 22) * height_metres**2:5.1f} kg')\n",
        "    elif 18.5 < BMI <= 25.0:\n",
        "        print('You are a healthy weight')\n",
        "    else:\n",
        "        print(f'You are underweight. To get to an ideal weight of {ideal_weight:5.1f} kg you need to gain: {(22 - BMI) * height_metres**2:5.1f} kg')\n",
        "\n",
        "\n",
        "# loop for i=0 to i=99:\n",
        "for i in range(100):\n",
        "  # The built-in function 'range()' produces a sequence of numbers (an iterable)\n",
        "  # from an intial value (default=0) to an end value (specified by user).\n",
        "  # The user can also supply an increment, so range(5,200,7) produces an\n",
        "  # iterable of numbers beginning with 5, incrementing by 7 until 200 is reached.\n",
        "  age_in_years = float ( input('Age in Years (xx.x): '))\n",
        "  if age_in_years > 70.:\n",
        "    print ('Age out of range for this patient. Continue with next')\n",
        "    continue\n",
        "  if age_in_years <= 18.0:\n",
        "    print(\"This function is intended for adults over 18 years old. Continue with next\")\n",
        "    # skip this element in the loop if the patient is <18 years old:\n",
        "    continue\n",
        "  sex = input ('Sex (Enter Male or Female): ')\n",
        "  height_metres = float (input ('Height in metres (x.xx): '))\n",
        "  weight_kg = float (input ('Weight in kg (xx.x): '))\n",
        "  weight_advice (age_in_years, height_metres, weight_kg, sex) #what is this line doing\n",
        "  x = input ('Do you wish to continue entering data? (y/n)')\n",
        "  if x == 'n':\n",
        "    # breaks out of for loop:\n",
        "    break\n",
        "else:\n",
        "  # else statement in a for loop is called when 'for' loop is finished:\n",
        "  print ('You have completed the list of patients')\n",
        "\n",
        "# NOTE: This 'else' statement is associated with the 'for' loop\n",
        "#       and not the preceding 'if' statement"
      ],
      "metadata": {
        "id": "kSMHd_n3YGXf",
        "colab": {
          "base_uri": "https://localhost:8080/"
        },
        "outputId": "22f8a5f6-fbcc-4958-de79-6f1d644a4712"
      },
      "execution_count": 109,
      "outputs": [
        {
          "name": "stdout",
          "output_type": "stream",
          "text": [
            "Age in Years (xx.x): 8\n",
            "This function is intended for adults over 18 years old. Continue with next\n",
            "Age in Years (xx.x): 90\n",
            "Age out of range for this patient. Continue with next\n",
            "Age in Years (xx.x): 56\n",
            "Sex (Enter Male or Female): f\n",
            "Height in metres (x.xx): 1.52\n",
            "Weight in kg (xx.x): 55\n",
            "You are a healthy weight\n",
            "Do you wish to continue entering data? (y/n)n\n"
          ]
        }
      ]
    },
    {
      "cell_type": "markdown",
      "source": [
        "Note the use of the `break` statement: this is used to 'break' out of the loop and stop iterating. It can be used with any type of loop (`for` or `while`)."
      ],
      "metadata": {
        "id": "i1B-naNME1Xv"
      }
    },
    {
      "cell_type": "markdown",
      "source": [
        "Note also the use of the `else` statement, which is relatively unique to Python. This can be used to perform some action at the end of the loop - but *not* if it was terminated using a `break` statement. In the example above, the final `print` statement would only be printed if the loop ran through all 100 iterations specified in the `range(100)` call, but not if the user typed `n` to stop entering data."
      ],
      "metadata": {
        "id": "xAm1WyhhFJoK"
      }
    },
    {
      "cell_type": "markdown",
      "source": [
        "### Exercise 4\n",
        "\n",
        "Change Range(100) to Range(5). Enter 5 person's worth of data.\n",
        "\n"
      ],
      "metadata": {
        "id": "1ij_WuJH0xpA"
      }
    },
    {
      "cell_type": "code",
      "source": [
        "\n",
        "# loop for i=0 to i=99:\n",
        "for i in range(5):\n",
        "  # The built-in function 'range()' produces a sequence of numbers (an iterable)\n",
        "  # from an intial value (default=0) to an end value (specified by user).\n",
        "  # The user can also supply an increment, so range(5,200,7) produces an\n",
        "  # iterable of numbers beginning with 5, incrementing by 7 until 200 is reached.\n",
        "  age_in_years = float ( input('Age in Years (xx.x): '))\n",
        "  if age_in_years > 70.:\n",
        "    print ('Age out of range for this patient. Continue with next')\n",
        "    # skip this element in the loop if the patient is > 70 years old:\n",
        "    continue\n",
        "  if age_in_years <= 18.0:\n",
        "    print(\"This function is intended for adults over 18 years old. Continue with next\")\n",
        "    # skip this element in the loop if the patient is <18 years old:\n",
        "    continue\n",
        "  sex = input ('Sex (Enter Male or Female): ')\n",
        "  height_metres = float (input ('Height in metres (x.xx): '))\n",
        "  weight_kg = float (input ('Weight in kg (xx.x): '))\n",
        "  weight_advice (age_in_years, height_metres, weight_kg, sex)\n",
        "  x = input ('Do you wish to continue entering data? (y/n)')\n",
        "  if x == 'n':\n",
        "    # breaks out of for loop:\n",
        "    break\n",
        "else:\n",
        "  # else statement in a for loop is called when 'for' loop is finished:\n",
        "  print ('You have completed the list of patients')"
      ],
      "metadata": {
        "id": "a5rSqnxtcl2j",
        "colab": {
          "base_uri": "https://localhost:8080/"
        },
        "outputId": "caac4586-e2b6-48d5-b3fa-8640418a71d7"
      },
      "execution_count": 111,
      "outputs": [
        {
          "output_type": "stream",
          "name": "stdout",
          "text": [
            "Age in Years (xx.x): 9\n",
            "This function is intended for adults over 18 years old. Continue with next\n",
            "Age in Years (xx.x): 90\n",
            "Age out of range for this patient. Continue with next\n",
            "Age in Years (xx.x): 23\n",
            "Sex (Enter Male or Female): m\n",
            "Height in metres (x.xx): 1.52\n",
            "Weight in kg (xx.x): 55\n",
            "You are a healthy weight\n",
            "Do you wish to continue entering data? (y/n)y\n",
            "Age in Years (xx.x): 45\n",
            "Sex (Enter Male or Female): m\n",
            "Height in metres (x.xx): 1.55\n",
            "Weight in kg (xx.x): 100\n",
            "You are obese. To get to an ideal weight of  52.9 kg you need to lose:  47.1 kg\n",
            "Do you wish to continue entering data? (y/n)y\n",
            "Age in Years (xx.x): 56\n",
            "Sex (Enter Male or Female): f\n",
            "Height in metres (x.xx): 1.78\n",
            "Weight in kg (xx.x): 68\n",
            "You are a healthy weight\n",
            "Do you wish to continue entering data? (y/n)y\n",
            "You have completed the list of patients\n"
          ]
        }
      ]
    },
    {
      "cell_type": "markdown",
      "source": [
        "## The `while` Loop\n",
        "\n",
        "The above code is limited to the number of loops that is specified. It might be more convenient to go around the loop until a condition is met. We can use a `while` loop to achieve that.\n",
        "\n"
      ],
      "metadata": {
        "id": "CTqD2tikF7-e"
      }
    },
    {
      "cell_type": "code",
      "source": [
        "while input ('Do you want to enter patient data?(y/n)') == 'y':\n",
        "  age_in_years = float (input ('Age in Years (xx.x): '))\n",
        "  if age_in_years > 70.0:\n",
        "    print ('Age out of range for this patient. Continue with next')\n",
        "    continue # skip this element in the loop if the patient is > 70 years old\n",
        "  sex = input ('Sex (Enter Male or Female): ')\n",
        "  height_metres = float (input ('Height in metres (x.xx): '))\n",
        "  weight_kg = float (input ('Weight in kg (xx.x): '))\n",
        "  print (weight_advice (age_in_years, height_metres, weight_kg, sex))"
      ],
      "metadata": {
        "id": "rV_zeQpaHOlE"
      },
      "execution_count": null,
      "outputs": []
    },
    {
      "cell_type": "markdown",
      "source": [
        "Note the use of the `continue` statement: this stops the execution of the *current* iteration, and immediately proceeds to the next iteration, skipping all the following statements in the loop.  "
      ],
      "metadata": {
        "id": "rz7qxOdHUB20"
      }
    },
    {
      "cell_type": "markdown",
      "source": [
        "---\n",
        "\n",
        "# Containers"
      ],
      "metadata": {
        "id": "DtNXY4CMfxXK"
      }
    },
    {
      "cell_type": "markdown",
      "source": [
        "## Lists\n",
        "\n",
        "So far we have had to enter data into the program to obtain an answer but what if we had organised sets of data that we wanted to get results for? Thankfully, there are variable types that can carry lots of data. These include Lists, Tuple, Sets, Dictionaries and Arrays. Let's meet one of the most commonly used: lists.\n",
        "\n",
        "The list type holds a collection of items of the same or different variable types. Let's have a look at some examples."
      ],
      "metadata": {
        "id": "8WD0wNTE15Wu"
      }
    },
    {
      "cell_type": "markdown",
      "source": [
        "### Defining lists"
      ],
      "metadata": {
        "id": "pUO7dl1VxZf0"
      }
    },
    {
      "cell_type": "markdown",
      "source": [
        "Initialise a list of numbers. This could be a list of patient weights in kg. Note the use of square brackets:"
      ],
      "metadata": {
        "id": "So0BpSTO0LZP"
      }
    },
    {
      "cell_type": "code",
      "source": [
        "list_weights = [67.1,27.2,43.3, 97.7,35.5]"
      ],
      "metadata": {
        "id": "4-ZfdLUex8JR"
      },
      "execution_count": 112,
      "outputs": []
    },
    {
      "cell_type": "markdown",
      "source": [
        "This could be a list of patient names:\n"
      ],
      "metadata": {
        "id": "1Uw16EAayGR0"
      }
    },
    {
      "cell_type": "code",
      "source": [
        "list_names = ['Charlie', 'Francesca', 'Bertrand', 'Rocky', 'Severine', 'Severine', 'Charlie', 'Severine']"
      ],
      "metadata": {
        "id": "ykcqFekTyG_C"
      },
      "execution_count": 113,
      "outputs": []
    },
    {
      "cell_type": "markdown",
      "source": [
        "You can include mixed types, and even include a list within a list:"
      ],
      "metadata": {
        "id": "O2cLzC5EyLIC"
      }
    },
    {
      "cell_type": "code",
      "source": [
        "mixed_list=[1, 4.3, 'tumble', list_weights, True]"
      ],
      "metadata": {
        "id": "Aw4AmmjByMUc"
      },
      "execution_count": 114,
      "outputs": []
    },
    {
      "cell_type": "markdown",
      "source": [
        "### Accessing elements\n",
        "\n",
        "Accessing a specific element or range of elements can be done using [list slicing](https://www.geeksforgeeks.org/python/python-list-slicing/), illustrated in the examples below."
      ],
      "metadata": {
        "id": "ZSdRPWhvxhyc"
      }
    },
    {
      "cell_type": "markdown",
      "source": [
        "Access individual element in list by indexing it:"
      ],
      "metadata": {
        "id": "z16ciwi4xc8O"
      }
    },
    {
      "cell_type": "code",
      "source": [
        "print (list_weights[0], list_weights[2])"
      ],
      "metadata": {
        "id": "qKCniozMxpZf",
        "colab": {
          "base_uri": "https://localhost:8080/"
        },
        "outputId": "2e8f8f4a-d4fc-45fc-f454-5efc6942dcb7"
      },
      "execution_count": 116,
      "outputs": [
        {
          "output_type": "stream",
          "name": "stdout",
          "text": [
            "67.1 43.3\n"
          ]
        }
      ]
    },
    {
      "cell_type": "markdown",
      "source": [
        "Note that in Python (and many other programming languages), indexing starts at zero."
      ],
      "metadata": {
        "id": "Si-cizcNjERr"
      }
    },
    {
      "cell_type": "markdown",
      "source": [
        "Accessing the last element can be done using a *negative* index, which takes the item this many elements from the end:"
      ],
      "metadata": {
        "id": "IVoqBJPExlQf"
      }
    },
    {
      "cell_type": "code",
      "source": [
        "print (list_weights[-1])"
      ],
      "metadata": {
        "id": "Mmlx44uKx1Tg",
        "colab": {
          "base_uri": "https://localhost:8080/"
        },
        "outputId": "e83099ea-0e19-44aa-97ce-45d35ce488b6"
      },
      "execution_count": 117,
      "outputs": [
        {
          "output_type": "stream",
          "name": "stdout",
          "text": [
            "35.5\n"
          ]
        }
      ]
    },
    {
      "cell_type": "markdown",
      "source": [
        "Printing a range of elements can be done using the colon (`:`) notation. For example, this prints elements from 1 up to (but not including) 4:"
      ],
      "metadata": {
        "id": "5681rHqHxmB_"
      }
    },
    {
      "cell_type": "code",
      "source": [
        "print (list_names[1:4])"
      ],
      "metadata": {
        "colab": {
          "base_uri": "https://localhost:8080/"
        },
        "id": "Afs99WpRjwFm",
        "outputId": "ec8a2525-fa9e-400c-f74c-3905d6296261"
      },
      "execution_count": 118,
      "outputs": [
        {
          "output_type": "stream",
          "name": "stdout",
          "text": [
            "['Francesca', 'Bertrand', 'Rocky']\n"
          ]
        }
      ]
    },
    {
      "cell_type": "markdown",
      "source": [
        "If either of the indices are unspecified, they default to the start and end of the list respectively:"
      ],
      "metadata": {
        "id": "gzCtps2ij5C3"
      }
    },
    {
      "cell_type": "code",
      "source": [
        "print (list_names[:])\n",
        "print (list_names[:2])\n",
        "print (list_names[-2:])"
      ],
      "metadata": {
        "colab": {
          "base_uri": "https://localhost:8080/"
        },
        "id": "ulQkLPIxkDjf",
        "outputId": "70c2e96a-bd16-45e7-dc1f-1655fc59bf7e"
      },
      "execution_count": 119,
      "outputs": [
        {
          "output_type": "stream",
          "name": "stdout",
          "text": [
            "['Charlie', 'Francesca', 'Bertrand', 'Rocky', 'Severine', 'Severine', 'Charlie', 'Severine']\n",
            "['Charlie', 'Francesca']\n",
            "['Charlie', 'Severine']\n"
          ]
        }
      ]
    },
    {
      "cell_type": "markdown",
      "source": [
        "It is possible to specify a 'skip' (increment) value by adding another colon. By default, the increment is 1 (list every element). Here, we print every other element (increment is 2):"
      ],
      "metadata": {
        "id": "wGfRnhNQkVEZ"
      }
    },
    {
      "cell_type": "code",
      "source": [
        "print (list_weights[::2])"
      ],
      "metadata": {
        "id": "ml5KohkgyWGT",
        "colab": {
          "base_uri": "https://localhost:8080/"
        },
        "outputId": "7a3bb8af-f707-4367-f98a-865a5458d630"
      },
      "execution_count": 120,
      "outputs": [
        {
          "output_type": "stream",
          "name": "stdout",
          "text": [
            "[67.1, 43.3, 35.5]\n"
          ]
        }
      ]
    },
    {
      "cell_type": "markdown",
      "source": [
        "Print every other element starting with index 1:"
      ],
      "metadata": {
        "id": "kIpsSSqbyXEi"
      }
    },
    {
      "cell_type": "code",
      "source": [
        "print (list_weights[1::2])"
      ],
      "metadata": {
        "id": "zzysz1ZuyZ1z",
        "colab": {
          "base_uri": "https://localhost:8080/"
        },
        "outputId": "5594352b-d72d-4a71-b9b5-b19c559ea848"
      },
      "execution_count": 121,
      "outputs": [
        {
          "output_type": "stream",
          "name": "stdout",
          "text": [
            "[27.2, 97.7]\n"
          ]
        }
      ]
    },
    {
      "cell_type": "markdown",
      "source": [
        "Print every other element in reverse order:"
      ],
      "metadata": {
        "id": "f8zz5NxayatE"
      }
    },
    {
      "cell_type": "code",
      "source": [
        "print (list_names[::-2])"
      ],
      "metadata": {
        "id": "rNILLVoEyeMU",
        "colab": {
          "base_uri": "https://localhost:8080/"
        },
        "outputId": "4babde05-0691-4248-ad7e-8271ec023045"
      },
      "execution_count": 122,
      "outputs": [
        {
          "output_type": "stream",
          "name": "stdout",
          "text": [
            "['Severine', 'Severine', 'Rocky', 'Francesca']\n"
          ]
        }
      ]
    },
    {
      "cell_type": "markdown",
      "source": [
        "### Iterating over list elements\n",
        "\n",
        "Lists are also *iterables*: they can be used directly in a `for` loop, which will perform an iteration for each entry in the list. In the example below, the current entry can be accessed as the variable `x`:"
      ],
      "metadata": {
        "id": "RX2IaWZ0yekU"
      }
    },
    {
      "cell_type": "code",
      "source": [
        "for x in list_weights:\n",
        "  print (x)"
      ],
      "metadata": {
        "id": "SsQ949JeylCE",
        "colab": {
          "base_uri": "https://localhost:8080/"
        },
        "outputId": "021b2fab-3d53-428f-9fb9-ceee985f4d5c"
      },
      "execution_count": 123,
      "outputs": [
        {
          "output_type": "stream",
          "name": "stdout",
          "text": [
            "67.1\n",
            "27.2\n",
            "43.3\n",
            "97.7\n",
            "35.5\n"
          ]
        }
      ]
    },
    {
      "cell_type": "code",
      "source": [
        "for x in list_names:\n",
        "  print (x)"
      ],
      "metadata": {
        "id": "E_o11SwZynSU",
        "colab": {
          "base_uri": "https://localhost:8080/"
        },
        "outputId": "5bac0be2-fff5-41f1-cf35-07ec7b130253"
      },
      "execution_count": 124,
      "outputs": [
        {
          "output_type": "stream",
          "name": "stdout",
          "text": [
            "Charlie\n",
            "Francesca\n",
            "Bertrand\n",
            "Rocky\n",
            "Severine\n",
            "Severine\n",
            "Charlie\n",
            "Severine\n"
          ]
        }
      ]
    },
    {
      "cell_type": "code",
      "source": [
        "for x in mixed_list:\n",
        "  print (x)"
      ],
      "metadata": {
        "id": "EelK80ouypTE",
        "colab": {
          "base_uri": "https://localhost:8080/"
        },
        "outputId": "0a195b17-5d4c-4937-d58e-aeec1bb3acce"
      },
      "execution_count": 125,
      "outputs": [
        {
          "output_type": "stream",
          "name": "stdout",
          "text": [
            "1\n",
            "4.3\n",
            "tumble\n",
            "[67.1, 27.2, 43.3, 97.7, 35.5]\n",
            "True\n"
          ]
        }
      ]
    },
    {
      "cell_type": "markdown",
      "source": [
        "This can be combined with list slicing if required. For example, here is an alternate way of printing every other member of the list:"
      ],
      "metadata": {
        "id": "6XN-1wV0y3vc"
      }
    },
    {
      "cell_type": "code",
      "source": [
        "for x in list_weights[::2]:\n",
        "  print (x)"
      ],
      "metadata": {
        "id": "YA4mxF7fy6gr",
        "colab": {
          "base_uri": "https://localhost:8080/"
        },
        "outputId": "323dabdd-da10-4a72-ad93-6a4f8f243e60"
      },
      "execution_count": 126,
      "outputs": [
        {
          "output_type": "stream",
          "name": "stdout",
          "text": [
            "67.1\n",
            "43.3\n",
            "35.5\n"
          ]
        }
      ]
    },
    {
      "cell_type": "markdown",
      "source": [
        "If required, we can iterate over the indices, and access the elements from the list within the loop. This can be useful if we need both the element and its index:"
      ],
      "metadata": {
        "id": "oexAqwVTyqRF"
      }
    },
    {
      "cell_type": "code",
      "source": [
        "for i in range (0, len(list_weights), 2):\n",
        "  print (i, list_weights[i])"
      ],
      "metadata": {
        "id": "-3LL9-CpyrQF",
        "colab": {
          "base_uri": "https://localhost:8080/"
        },
        "outputId": "5c13f022-7495-4b7a-cb31-850ef01b4690"
      },
      "execution_count": 127,
      "outputs": [
        {
          "output_type": "stream",
          "name": "stdout",
          "text": [
            "0 67.1\n",
            "2 43.3\n",
            "4 35.5\n"
          ]
        }
      ]
    },
    {
      "cell_type": "markdown",
      "source": [
        "### Exercise 5\n",
        "\n",
        "Print every 3rd element of `list_names` using 3 alternative methods"
      ],
      "metadata": {
        "id": "CYN9kICy0LZU"
      }
    },
    {
      "cell_type": "code",
      "source": [
        "# Your code here"
      ],
      "metadata": {
        "id": "n1WUOArh0LZU"
      },
      "execution_count": null,
      "outputs": []
    },
    {
      "cell_type": "markdown",
      "source": [
        "### List methods\n",
        "\n",
        "The list class provides a number of useful methods. We'll explain what *classes* and *methods* are in more detail in subsequent sessions. For now, here are a few examples to illustrate the use of the most useful of these methods:"
      ],
      "metadata": {
        "id": "bCZxSeEM0LZU"
      }
    },
    {
      "cell_type": "markdown",
      "source": [
        "To apply a method, we need to use the [dot notation](https://builtin.com/data-science/dot-notation). In this example, we are using the `sort()` method on the `list_names` class:"
      ],
      "metadata": {
        "id": "ODZuLw0O0LZU"
      }
    },
    {
      "cell_type": "code",
      "source": [
        "list_names.sort()\n",
        "print (list_names)"
      ],
      "metadata": {
        "id": "J8MKb73L0jKf",
        "colab": {
          "base_uri": "https://localhost:8080/"
        },
        "outputId": "ea73ff0c-f52f-4e0d-8d63-137d05d425cc"
      },
      "execution_count": null,
      "outputs": [
        {
          "output_type": "stream",
          "name": "stdout",
          "text": [
            "['Bertrand', 'Charlie', 'Charlie', 'Francesca', 'Rocky', 'Severine', 'Severine', 'Severine']\n"
          ]
        }
      ]
    },
    {
      "cell_type": "markdown",
      "source": [
        "We can also sort the list in descending order:"
      ],
      "metadata": {
        "id": "8N7lHnVlI9fu"
      }
    },
    {
      "cell_type": "code",
      "source": [
        "list_weights.sort (reverse=True)\n",
        "print (list_weights)"
      ],
      "metadata": {
        "id": "4c9aJquH0fLP",
        "colab": {
          "base_uri": "https://localhost:8080/"
        },
        "outputId": "9324d2ef-eef6-46c6-f964-004fdb7509a0"
      },
      "execution_count": null,
      "outputs": [
        {
          "output_type": "stream",
          "name": "stdout",
          "text": [
            "[97.7, 67.1, 43.3, 35.5, 27.2]\n"
          ]
        }
      ]
    },
    {
      "cell_type": "markdown",
      "source": [
        "We can use the `append()` method to add an element to the end of a list:"
      ],
      "metadata": {
        "id": "mXxpucQKI-2k"
      }
    },
    {
      "cell_type": "code",
      "source": [
        "list_names.append('Cecil')\n",
        "print (list_names)"
      ],
      "metadata": {
        "colab": {
          "base_uri": "https://localhost:8080/"
        },
        "id": "0zZ7ouDwnf6s",
        "outputId": "7b940320-4d8c-48dc-833f-188a13cbd18f"
      },
      "execution_count": null,
      "outputs": [
        {
          "output_type": "stream",
          "name": "stdout",
          "text": [
            "['Bertrand', 'Charlie', 'Charlie', 'Francesca', 'Rocky', 'Severine', 'Severine', 'Severine', 'Cecil']\n"
          ]
        }
      ]
    },
    {
      "cell_type": "markdown",
      "source": [
        "We can use the `copy()` method to copy the entire list to another variable:"
      ],
      "metadata": {
        "id": "yzfmtcgin7Pr"
      }
    },
    {
      "cell_type": "code",
      "source": [
        "# reset the list to its original contents:\n",
        "list_names = ['Charlie', 'Francesca', 'Bertrand', 'Rocky', 'Severine', 'Severine', 'Charlie', 'Severine']\n",
        "\n",
        "list_names_duplicate = list_names.copy()\n",
        "print (list_names_duplicate)"
      ],
      "metadata": {
        "id": "CCoGijuDJDSM",
        "colab": {
          "base_uri": "https://localhost:8080/"
        },
        "outputId": "9e4e3c90-b5da-410d-8ba3-2b82e45ec581"
      },
      "execution_count": null,
      "outputs": [
        {
          "output_type": "stream",
          "name": "stdout",
          "text": [
            "['Charlie', 'Francesca', 'Bertrand', 'Rocky', 'Severine', 'Severine', 'Charlie', 'Severine']\n"
          ]
        }
      ]
    },
    {
      "cell_type": "markdown",
      "source": [
        "These two copies are now independent: we can modify one without affecting the other:"
      ],
      "metadata": {
        "id": "TCulD7GSoKqM"
      }
    },
    {
      "cell_type": "code",
      "source": [
        "list_names_duplicate[1] = 'Fred'\n",
        "print (list_names_duplicate)\n",
        "print (list_names)"
      ],
      "metadata": {
        "id": "EmJsSOEPJgYj",
        "colab": {
          "base_uri": "https://localhost:8080/"
        },
        "outputId": "408eadc7-6ef0-47e9-ffe5-c1c983ddee4f"
      },
      "execution_count": null,
      "outputs": [
        {
          "output_type": "stream",
          "name": "stdout",
          "text": [
            "['Charlie', 'Fred', 'Bertrand', 'Rocky', 'Severine', 'Severine', 'Charlie', 'Severine']\n",
            "['Charlie', 'Francesca', 'Bertrand', 'Rocky', 'Severine', 'Severine', 'Charlie', 'Severine']\n"
          ]
        }
      ]
    },
    {
      "cell_type": "markdown",
      "source": [
        "The `clear()` methods deletes the entire contents of the list:"
      ],
      "metadata": {
        "id": "d9cWCKjGoRme"
      }
    },
    {
      "cell_type": "code",
      "source": [
        "list_names_duplicate.clear()\n",
        "print (list_names_duplicate)"
      ],
      "metadata": {
        "id": "92RU1EjWJH-W",
        "colab": {
          "base_uri": "https://localhost:8080/"
        },
        "outputId": "6f28d628-fb60-4465-de90-c8b14fa811f4"
      },
      "execution_count": null,
      "outputs": [
        {
          "output_type": "stream",
          "name": "stdout",
          "text": [
            "[]\n"
          ]
        }
      ]
    },
    {
      "cell_type": "markdown",
      "source": [
        "The `extend()` method can be used to merge one list (or any *iterable*) into another existing list:"
      ],
      "metadata": {
        "id": "TpjTPTT6oamG"
      }
    },
    {
      "cell_type": "code",
      "source": [
        "list_names_duplicate = [ 'John', 'Luke' ]\n",
        "print (list_names_duplicate)\n",
        "\n",
        "list_names_duplicate.extend (list_names)\n",
        "print (list_names_duplicate)"
      ],
      "metadata": {
        "id": "-0wfmbe7KfB5",
        "colab": {
          "base_uri": "https://localhost:8080/"
        },
        "outputId": "fab9d1bd-3b81-48f3-aa28-8a12a4b19957"
      },
      "execution_count": null,
      "outputs": [
        {
          "output_type": "stream",
          "name": "stdout",
          "text": [
            "['John', 'Luke']\n",
            "['John', 'Luke', 'Charlie', 'Francesca', 'Bertrand', 'Rocky', 'Severine', 'Severine', 'Charlie', 'Severine']\n"
          ]
        }
      ]
    },
    {
      "cell_type": "markdown",
      "source": [
        "The `count()` method reports how many elements match the item specified:"
      ],
      "metadata": {
        "id": "MTzUcMKuo3lx"
      }
    },
    {
      "cell_type": "code",
      "source": [
        "print (list_names.count('Charlie'))"
      ],
      "metadata": {
        "id": "Bv0kmkJTKiGI",
        "colab": {
          "base_uri": "https://localhost:8080/"
        },
        "outputId": "3d37a646-e12f-4323-d18a-0c226e4a50ab"
      },
      "execution_count": null,
      "outputs": [
        {
          "output_type": "stream",
          "name": "stdout",
          "text": [
            "2\n"
          ]
        }
      ]
    },
    {
      "cell_type": "markdown",
      "source": [
        "The `index` method provides the index of the first element that matches the item specified:"
      ],
      "metadata": {
        "id": "ZZc2f-gNo_36"
      }
    },
    {
      "cell_type": "code",
      "source": [
        "print (list_names.index('Charlie'))"
      ],
      "metadata": {
        "id": "1mIyhupeLZxJ",
        "colab": {
          "base_uri": "https://localhost:8080/"
        },
        "outputId": "7f5342dc-ebee-4e46-80f7-4dd7a1e28c7c"
      },
      "execution_count": null,
      "outputs": [
        {
          "output_type": "stream",
          "name": "stdout",
          "text": [
            "0\n"
          ]
        }
      ]
    },
    {
      "cell_type": "markdown",
      "source": [
        "The `insert()` method is used to insert an element at a specified index:"
      ],
      "metadata": {
        "id": "0h_rNNlEpLLj"
      }
    },
    {
      "cell_type": "code",
      "source": [
        "list_names.insert(4,'Jack')\n",
        "print (list_names)"
      ],
      "metadata": {
        "id": "ETY2BGgGLctB",
        "colab": {
          "base_uri": "https://localhost:8080/"
        },
        "outputId": "74e6d60f-07a3-4f7d-fe5f-b95575d5b64b"
      },
      "execution_count": null,
      "outputs": [
        {
          "output_type": "stream",
          "name": "stdout",
          "text": [
            "['Charlie', 'Francesca', 'Bertrand', 'Rocky', 'Jack', 'Severine', 'Severine', 'Charlie', 'Severine']\n"
          ]
        }
      ]
    },
    {
      "cell_type": "markdown",
      "source": [
        "The `pop()` method remove the item at the specified index:"
      ],
      "metadata": {
        "id": "wbqDYCfRpjCt"
      }
    },
    {
      "cell_type": "code",
      "source": [
        "list_names.pop(4)\n",
        "print (list_names)"
      ],
      "metadata": {
        "id": "E7-ecj1SLhHp",
        "colab": {
          "base_uri": "https://localhost:8080/"
        },
        "outputId": "cb6218d4-6702-41c4-99e7-289fe1cf170e"
      },
      "execution_count": null,
      "outputs": [
        {
          "output_type": "stream",
          "name": "stdout",
          "text": [
            "['Charlie', 'Francesca', 'Bertrand', 'Rocky', 'Severine', 'Severine', 'Charlie', 'Severine']\n"
          ]
        }
      ]
    },
    {
      "cell_type": "markdown",
      "source": [
        "The `remove()` method removes the first element that matches the specified item from the list:"
      ],
      "metadata": {
        "id": "DDsfPtV4p62Q"
      }
    },
    {
      "cell_type": "code",
      "source": [
        "list_names.remove('Bertrand')\n",
        "print (list_names)"
      ],
      "metadata": {
        "id": "qA03CDhZLnC7",
        "colab": {
          "base_uri": "https://localhost:8080/"
        },
        "outputId": "457fd5df-1721-49b0-9269-6951fb87dace"
      },
      "execution_count": null,
      "outputs": [
        {
          "output_type": "stream",
          "name": "stdout",
          "text": [
            "['Charlie', 'Francesca', 'Rocky', 'Severine', 'Severine', 'Charlie', 'Severine']\n"
          ]
        }
      ]
    },
    {
      "cell_type": "markdown",
      "source": [
        "**Note:** if you *assign* one list to another (using the `=` operator), both lists will refer to the *same* entity in memory. The two copies will *not* be independent: any operation you do on one you do on the other!\n",
        "\n",
        "If you need a genuinely independent copy, make sure to use the `copy()` method!"
      ],
      "metadata": {
        "id": "oZU34RCSqJMx"
      }
    },
    {
      "cell_type": "code",
      "source": [
        "print (list_names)\n",
        "\n",
        "list_names_1 = list_names\n",
        "list_names_1.pop(4)\n",
        "\n",
        "print (list_names)"
      ],
      "metadata": {
        "id": "_kGcCaR3LrWj",
        "colab": {
          "base_uri": "https://localhost:8080/"
        },
        "outputId": "f55b6768-9acb-481f-b6ce-22e50761ee15"
      },
      "execution_count": null,
      "outputs": [
        {
          "output_type": "stream",
          "name": "stdout",
          "text": [
            "['Charlie', 'Francesca', 'Bertrand', 'Rocky', 'Severine', 'Charlie', 'Severine']\n",
            "['Charlie', 'Francesca', 'Bertrand', 'Rocky', 'Charlie', 'Severine']\n"
          ]
        }
      ]
    },
    {
      "cell_type": "markdown",
      "source": [
        "### Exercise 6\n",
        "\n",
        "Remove the 2nd last instance of `Severine` from `list_names`. If you don't know how many instances of `Severine` are in the list, you may run into trouble!"
      ],
      "metadata": {
        "id": "VrF3d7l70LZW"
      }
    },
    {
      "cell_type": "code",
      "source": [
        "list_names = ['Charlie', 'Francesca', 'Bertrand', 'Rocky', 'Severine', 'Severine', 'Charlie', 'Severine']"
      ],
      "metadata": {
        "id": "E6uNZ9gIrIBg"
      },
      "execution_count": null,
      "outputs": []
    },
    {
      "cell_type": "code",
      "source": [
        "# write your code here"
      ],
      "metadata": {
        "id": "6BeHHGDw0LZW",
        "colab": {
          "base_uri": "https://localhost:8080/"
        },
        "outputId": "9bb2cee6-ae58-4cb4-ad0b-dfdf81b573c8"
      },
      "execution_count": null,
      "outputs": [
        {
          "output_type": "stream",
          "name": "stdout",
          "text": [
            "[4, 5, 7]\n",
            "['Charlie', 'Francesca', 'Bertrand', 'Rocky', 'Severine', 'Charlie', 'Severine']\n"
          ]
        }
      ]
    },
    {
      "cell_type": "markdown",
      "source": [
        "## List comprehensions\n",
        "\n",
        "Python has a very convenient and expressive way of performing computations of a list (or in fact, other iterables).\n",
        "\n",
        "List comprehensions take the form `[expression for item in iterable if condition]` (the final `if condition` is optional).\n",
        "\n",
        "In this example, we take a list of the height in inches and convert them to metres:"
      ],
      "metadata": {
        "id": "HqqbfbXt0LZY"
      }
    },
    {
      "cell_type": "code",
      "source": [
        "# list of patients' heights:\n",
        "height_data_inches = [ 61, 67, 70, 57, 71, 72, 70, 66 ]\n",
        "print (height_data_inches)\n",
        "\n",
        "height_data_metres = [ x*2.54/100 for x in height_data_inches ]\n",
        "print (newlist)"
      ],
      "metadata": {
        "id": "NLetEDxH0LZY",
        "colab": {
          "base_uri": "https://localhost:8080/"
        },
        "outputId": "d4d1bc7f-cb6b-4ef1-c028-4e0704d33f9d"
      },
      "execution_count": null,
      "outputs": [
        {
          "output_type": "stream",
          "name": "stdout",
          "text": [
            "[61, 67, 70, 57, 71, 72, 70, 66]\n",
            "[61, 70, 71]\n"
          ]
        }
      ]
    },
    {
      "cell_type": "markdown",
      "source": [
        "We can also use a list comprehension to create a new list of every other element:"
      ],
      "metadata": {
        "id": "KusaooFh0LZY"
      }
    },
    {
      "cell_type": "code",
      "source": [
        "newlist = [ height_data_inches[i] for i in range(0, len(list_weights),2) ]\n",
        "print (newlist)"
      ],
      "metadata": {
        "id": "rQeRps3q0LZY",
        "colab": {
          "base_uri": "https://localhost:8080/"
        },
        "outputId": "e3522423-3b13-4cf9-e04f-e69b1ce38bb3"
      },
      "execution_count": null,
      "outputs": [
        {
          "output_type": "stream",
          "name": "stdout",
          "text": [
            "[61, 70, 71]\n"
          ]
        }
      ]
    },
    {
      "cell_type": "markdown",
      "source": [
        "In this comprehension we calculate BMI from the height and weight lists.\n",
        "We use the [`zip()`](https://www.w3schools.com/python/ref_func_zip.asp) built-in function to combine two lists.\n",
        "\n",
        "`zip()` produces an iterable of type zip, where each item is itself an *iterator* over the matching elements from both lists, which we can then assign to two separate variables in the loop. This example will perhaps clarify this:\n"
      ],
      "metadata": {
        "id": "J1aEHHOy0LZY"
      }
    },
    {
      "cell_type": "code",
      "source": [
        "# list of patients' weights:\n",
        "weight_data_kg = [ 60.0, 80.0, 80.0, 60.0, 65.0, 83.0, 79.0, 48.0 ]\n",
        "\n",
        "print ('Input data (height weight):')\n",
        "# to illustrate what the zip() function does:\n",
        "for x,y in zip (height_data_metres, weight_data_kg):\n",
        "  print (x,y)\n",
        "\n",
        "newlist = [ w/h**2 for h,w in zip(height_data_metres,weight_data_kg) ]\n",
        "\n",
        "print ('')\n",
        "print ('Computed BMI:')\n",
        "print (newlist)"
      ],
      "metadata": {
        "id": "TNRe-bGG0LZY",
        "colab": {
          "base_uri": "https://localhost:8080/"
        },
        "outputId": "f93a85b5-41b8-4cec-bb09-56d3b8836569"
      },
      "execution_count": null,
      "outputs": [
        {
          "output_type": "stream",
          "name": "stdout",
          "text": [
            "Input data (height weight):\n",
            "1.5493999999999999 60.0\n",
            "1.7018 80.0\n",
            "1.778 80.0\n",
            "1.4478 60.0\n",
            "1.8034000000000001 65.0\n",
            "1.8288 83.0\n",
            "1.778 79.0\n",
            "1.6764000000000001 48.0\n",
            "\n",
            "Computed BMI:\n",
            "[24.99333136263693, 27.623133882935175, 25.306173061325712, 28.624249307593722, 19.986153838604043, 24.816793460747416, 24.98984589805914, 17.07992396701047]\n"
          ]
        }
      ]
    },
    {
      "cell_type": "markdown",
      "source": [
        "We can also add a conditional statement, for example to exclude all individuals under 1.6 metres:\n"
      ],
      "metadata": {
        "id": "u_2kRyok0LZY"
      }
    },
    {
      "cell_type": "code",
      "source": [
        "newlist = [ w/h**2 for h,w in zip(height_data_metres,weight_data_kg) if h>1.6 ]\n",
        "print (newlist)"
      ],
      "metadata": {
        "id": "D3ppZDB40LZZ",
        "colab": {
          "base_uri": "https://localhost:8080/"
        },
        "outputId": "2096c724-b9b1-4a67-98d0-4899320777a0"
      },
      "execution_count": null,
      "outputs": [
        {
          "output_type": "stream",
          "name": "stdout",
          "text": [
            "[27.623133882935175, 25.306173061325712, 19.986153838604043, 24.816793460747416, 24.98984589805914, 17.07992396701047]\n"
          ]
        }
      ]
    },
    {
      "cell_type": "markdown",
      "source": [
        "### Exercise 7\n",
        "\n",
        "Create a new list of BMIs that contains only persons between 1.3 and 1.5 metres using a list comprehension.\n"
      ],
      "metadata": {
        "id": "m90bvMlG0LZZ"
      }
    },
    {
      "cell_type": "code",
      "source": [
        "# write your code here"
      ],
      "metadata": {
        "id": "wmUeJCY20LZZ"
      },
      "execution_count": null,
      "outputs": []
    }
  ]
}